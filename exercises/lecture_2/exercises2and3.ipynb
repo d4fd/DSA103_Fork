{
 "cells": [
  {
   "cell_type": "markdown",
   "id": "2ccccb04",
   "metadata": {},
   "source": [
    "## Exercise 2: Chemical Equation Balancer Checker\n",
    "\n",
    "**Objective:** Write a program that checks if a chemical equation is balanced.\n",
    "\n",
    "**Problem:** Create a function called `is_balanced()` that takes a chemical equation string and returns True if balanced, False if not.\n",
    "\n",
    "**Your Task:**\n",
    "- Split the equation at the arrow symbol \"→\" to get reactants and products\n",
    "- For each side, parse the molecules and their coefficients\n",
    "- Count total atoms of each element on both sides\n",
    "- Compare the totals\n",
    "\n",
    "Example Equation Format: \"2H2 + O2 → 2H2O\"\n",
    "\n",
    "**Hints:**\n",
    "\n",
    "- Use equation.split(\"→\") to separate reactants from products\n",
    "- Use side.split(\" + \") to separate individual molecules\n",
    "- You'll need to handle coefficients (numbers in front of molecules)\n",
    "- Reuse your count_atoms() function from Exercise 1!\n",
    "- For molecules with coefficients like \"2H2O\", the coefficient applies to all atoms in that molecule\n",
    "\n",
    "**Steps to Think Through:**\n",
    "\n",
    "- How do you extract the coefficient from \"2H2O\"? (It's everything before the first letter)\n",
    "- How do you multiply the atom counts by the coefficient?\n",
    "- How do you combine counts from multiple molecules on the same side?\n"
   ]
  },
  {
   "cell_type": "markdown",
   "id": "5b769ea5",
   "metadata": {},
   "source": [
    "# Lecture 2: Computational Thinking with Python"
   ]
  },
  {
   "cell_type": "code",
   "execution_count": 26,
   "id": "47ac7c77",
   "metadata": {},
   "outputs": [],
   "source": [
    "from typing import Dict, List, Tuple\n",
    "import re\n",
    "from collections import defaultdict\n",
    "\n",
    "def parse_molecular_formula(formula: str) -> Dict[str, int]:\n",
    "    \"\"\"\n",
    "    Parse a formula like \"C2H5OH\" -> {\"C\":2, \"H\":6, \"O\":1}\n",
    "    \"\"\"\n",
    "    pattern = r\"([A-Z][a-z]?)([0-9]*)\"\n",
    "    components = re.findall(pattern, formula)\n",
    "    atom_dict: Dict[str, int] = defaultdict(int)\n",
    "    for name, num_str in components:\n",
    "        count = int(num_str) if num_str else 1\n",
    "        atom_dict[name] += count\n",
    "    return dict(atom_dict)\n",
    "\n",
    "def parse_molecule_with_coeff(molecule: str) -> Tuple[int, Dict[str, int]]:\n",
    "    \"\"\"\n",
    "    Parse a molecule possibly with a leading coefficient, e.g. \"2H2O\" -> (2, {\"H\":2,\"O\":1})\n",
    "    \"\"\"\n",
    "    molecule = molecule.strip()\n",
    "    m = re.match(r\"^(\\d*)(.*)$\", molecule)\n",
    "    if not m:\n",
    "        return 1, {}\n",
    "    coeff_str, formula = m.groups()\n",
    "    coeff = int(coeff_str) if coeff_str else 1\n",
    "    formula = formula.strip()\n",
    "    return coeff, parse_molecular_formula(formula)\n",
    "\n",
    "def is_balanced(chem_eq: str) -> bool:\n",
    "    # accept both '→' and '->'\n",
    "    chem_eq = chem_eq.replace(\"->\", \"→\")\n",
    "    left_side, right_side = chem_eq.split(\"→\")\n",
    "    def total_counts(side: str) -> Dict[str, int]:\n",
    "        totals: Dict[str, int] = defaultdict(int)\n",
    "        for mol in side.split(\"+\"):\n",
    "            mol = mol.strip()\n",
    "            if not mol:\n",
    "                continue\n",
    "            coeff, atoms = parse_molecule_with_coeff(mol)\n",
    "            for el, n in atoms.items():\n",
    "                totals[el] += coeff * n\n",
    "        return dict(totals)\n",
    "\n",
    "    return total_counts(left_side) == total_counts(right_side)\n"
   ]
  },
  {
   "cell_type": "markdown",
   "id": "70cdedcc",
   "metadata": {},
   "source": [
    "### Test Cases\n"
   ]
  },
  {
   "cell_type": "code",
   "execution_count": 28,
   "id": "3acbbf56",
   "metadata": {},
   "outputs": [
    {
     "name": "stdout",
     "output_type": "stream",
     "text": [
      "True\n",
      "False\n",
      "True\n",
      "False\n"
     ]
    }
   ],
   "source": [
    "# If the outcome is incorrect, the keyword assert will cause an error\n",
    "\n",
    "print(is_balanced(\"2H2 + O2 → 2H2O\"))\n",
    "assert is_balanced(\"2H2 + O2 → 2H2O\")\n",
    "\n",
    "print(is_balanced(\"H2 + O2 → H2O\"))\n",
    "assert not is_balanced(\"H2 + O2 → H2O\")\n",
    "\n",
    "print(is_balanced(\"CH4 + 2O2 → CO2 + 2H2O\"))\n",
    "assert is_balanced(\"CH4 + 2O2 → CO2 + 2H2O\")\n",
    "\n",
    "print(is_balanced(\"N2 + H2 → NH3\"))\n",
    "assert not is_balanced(\"N2 + H2 → NH3\")"
   ]
  },
  {
   "cell_type": "markdown",
   "id": "e8a34c32",
   "metadata": {},
   "source": [
    "## Exercise 3: Reaction Pathway Analyzer\n",
    "\n",
    "**Objective:** Analyze multi-step reaction sequences to find synthesis pathways.\n",
    "\n",
    "**Problem:** Write a program that determines what compounds can be synthesized from starting materials through a series of reactions, and finds a pathway to create a target compound.\n",
    "\n",
    "**Your Task:**\n",
    "Create a function called `find_synthesis_path()` that takes:\n",
    "\n",
    "- A list of starting compounds\n",
    "- A list of reaction equations\n",
    "- A target compound to synthesize\n",
    "\n",
    "The function should return either:\n",
    "\n",
    "- A list of reaction steps that lead to the target compound, OR\n",
    "- A message saying the target cannot be synthesized\n",
    "\n",
    "**Hints:**\n",
    "\n",
    "- Start by creating a set of \"available\" compounds (your starting materials)\n",
    "- For each reaction, check if you have all the reactants needed\n",
    "- If you can perform a reaction, add the products to your available compounds\n",
    "- Keep track of which reactions you've used in what order\n",
    "- Continue until you either find the target or can't make any new compounds\n",
    "\n",
    "#### Computational Thinking:\n",
    "\n",
    "**Decomposition:** Break this into smaller problems\n",
    "\n",
    "- Parse reaction equations\n",
    "- Track available compounds\n",
    "- Check if reactions can be performed\n",
    "- Record the synthesis pathway\n",
    "\n",
    "\n",
    "**Pattern Recognition:** What patterns do you see?\n",
    "\n",
    "- Each reaction has the same format: \"reactants → products\"\n",
    "- You need to repeatedly check if new reactions become possible\n",
    "\n",
    "\n",
    "**Algorithm Design:** What's your step-by-step approach?\n",
    "\n",
    "- Initialize available compounds\n",
    "- Loop: try each reaction, see if possible, update available compounds\n",
    "- Stop when target is found or no progress is made\n",
    "\n",
    "\n",
    "**Abstraction:** What functions might be helpful?\n",
    "\n",
    "- A function to parse a single reaction equation\n",
    "- A function to check if a reaction is possible with current compounds\n",
    "- A function to update available compounds after a reaction\n",
    "\n"
   ]
  },
  {
   "cell_type": "code",
   "execution_count": 48,
   "id": "31f54201",
   "metadata": {},
   "outputs": [],
   "source": [
    "from typing import List, Tuple, Set\n",
    "\n",
    "def find_synthesis_path(starting_materials: List[str], reactions: List[str], target: str) -> List[str] | str:\n",
    "\n",
    "    # Write your code here\n",
    "    #iterative approach: we check which reaction has target on the right side, then we check if we can make the left side from starting materials, if not we check which reaction has the left side as a result and so on...\n",
    "    list_of_steps = [] #everytime we use a reaction we add it to this list\n",
    "    available_materials = set(starting_materials) #we keep track of the available materials, we get more as we use reactions\n",
    "    def parse_side(side: str) -> List[str]:\n",
    "        return [m.strip() for m in side.split(\"+\") if m.strip()]\n",
    "\n",
    "    def parse_reaction(r: str) -> Tuple[Set[str], List[str], str]:\n",
    "        \"\"\"\n",
    "        Parse a reaction string like \"2H2 + O2 → 2H2O\" and return:\n",
    "         - reactants: set of reactant formulas without leading coefficients (e.g. {\"H2\",\"O2\"})\n",
    "         - products: list of product formulas without leading coefficients (e.g. [\"H2O\"])\n",
    "         - original reaction string (trimmed)\n",
    "        \"\"\"\n",
    "        def strip_coeff(mol: str) -> str:\n",
    "            # remove leading digits and whitespace (e.g. \"2H2\" -> \"H2\", \" 3 CO\" -> \"CO\")\n",
    "            mol = mol.strip()\n",
    "            i = 0\n",
    "            while i < len(mol) and (mol[i].isdigit() or mol[i].isspace()):\n",
    "                i += 1\n",
    "            return mol[i:].strip()\n",
    "\n",
    "        left, right = r.split(\"→\")\n",
    "        reactants = set(strip_coeff(m) for m in parse_side(left))\n",
    "        products = [strip_coeff(m) for m in parse_side(right)]\n",
    "        return reactants, products, r.strip()\n",
    "    \n",
    "    def reaction_can_make(reaction: str, product: str) -> bool:\n",
    "        reactants, products, r = parse_reaction(reaction)\n",
    "        return product in products\n",
    "    for i in range(10): #so its not infinite loop, we limit to 10 iterations\n",
    "        for reaction in reactions:\n",
    "            if reaction_can_make(reaction, target):\n",
    "                reactants, products, r = parse_reaction(reaction)\n",
    "                if all(reactant in available_materials for reactant in reactants):\n",
    "                    list_of_steps.append(reaction)\n",
    "                    available_materials.update(products)\n",
    "                    if target in available_materials:\n",
    "                        return list_of_steps\n",
    "                else:\n",
    "                    for reactant in reactants:\n",
    "                        if reactant not in available_materials:\n",
    "                            # recursively try to make the reactant\n",
    "                            sub_path = find_synthesis_path(list(available_materials), reactions, reactant)\n",
    "                            if sub_path == \"Not possible\":\n",
    "                                continue\n",
    "                            list_of_steps.extend(sub_path)\n",
    "                            available_materials.add(reactant)\n",
    "    return list_of_steps if target in available_materials else \"Not possible\""
   ]
  },
  {
   "cell_type": "markdown",
   "id": "8841483b",
   "metadata": {},
   "source": [
    "### Test Cases"
   ]
  },
  {
   "cell_type": "code",
   "execution_count": 49,
   "id": "106c1dc0",
   "metadata": {},
   "outputs": [
    {
     "name": "stdout",
     "output_type": "stream",
     "text": [
      "['2H2 + O2 → 2H2O', 'N2 + 3H2 → 2NH3', 'NH3 + H2O → NH4OH']\n"
     ]
    }
   ],
   "source": [
    "# Basic Multi-Step Synthesis\n",
    "\n",
    "starting_materials = [\"H2\", \"O2\", \"N2\"]\n",
    "reactions = [\n",
    "    \"2H2 + O2 → 2H2O\",\n",
    "    \"N2 + 3H2 → 2NH3\", \n",
    "    \"NH3 + H2O → NH4OH\"\n",
    "]\n",
    "target = \"NH4OH\"\n",
    "\n",
    "result = find_synthesis_path(starting_materials, reactions, target)\n",
    "print(result)\n",
    "# Expected: Should find a path using H2 + N2 → NH3, then NH3 + H2O → NH4OH"
   ]
  },
  {
   "cell_type": "code",
   "execution_count": 50,
   "id": "bf854855",
   "metadata": {},
   "outputs": [
    {
     "name": "stdout",
     "output_type": "stream",
     "text": [
      "['2Na + Cl2 → 2NaCl']\n"
     ]
    }
   ],
   "source": [
    "# Direct Synthesis (One Step)\n",
    "\n",
    "starting_materials = [\"Na\", \"Cl2\"]\n",
    "reactions = [\n",
    "    \"2Na + Cl2 → 2NaCl\",\n",
    "    \"NaCl + H2O → NaOH + HCl\"\n",
    "]\n",
    "target = \"NaCl\"\n",
    "\n",
    "result = find_synthesis_path(starting_materials, reactions, target)\n",
    "print(result)\n",
    "# Expected: Should find direct synthesis in one step"
   ]
  },
  {
   "cell_type": "code",
   "execution_count": 51,
   "id": "0c1de762",
   "metadata": {},
   "outputs": [
    {
     "name": "stdout",
     "output_type": "stream",
     "text": [
      "Not possible\n"
     ]
    }
   ],
   "source": [
    "# Impossible Synthesis\n",
    "\n",
    "starting_materials = [\"H2\", \"O2\"]\n",
    "reactions = [\n",
    "    \"2H2 + O2 → 2H2O\",\n",
    "    \"N2 + 3H2 → 2NH3\"  # But we don't have N2!\n",
    "]\n",
    "target = \"NH3\"\n",
    "\n",
    "result = find_synthesis_path(starting_materials, reactions, target)\n",
    "print(result)\n",
    "# Expected: Should return message that NH3 cannot be synthesized"
   ]
  },
  {
   "cell_type": "code",
   "execution_count": 52,
   "id": "c5ce6995",
   "metadata": {},
   "outputs": [
    {
     "name": "stdout",
     "output_type": "stream",
     "text": [
      "['C + O2 → CO2']\n"
     ]
    }
   ],
   "source": [
    "# Multiple Pathway Options\n",
    "starting_materials = [\"C\", \"H2\", \"O2\", \"H2O\"]\n",
    "reactions = [\n",
    "    \"C + O2 → CO2\",\n",
    "    \"2H2 + O2 → 2H2O\",\n",
    "    \"CO2 + H2O → H2CO3\",\n",
    "    \"C + 2H2 → CH4\",\n",
    "    \"CH4 + 2O2 → CO2 + 2H2O\"\n",
    "]\n",
    "target = \"CO2\"\n",
    "\n",
    "result = find_synthesis_path(starting_materials, reactions, target)\n",
    "print(result)\n",
    "# Expected: Should find one of multiple possible paths to CO2"
   ]
  },
  {
   "cell_type": "code",
   "execution_count": 53,
   "id": "dbbedf25",
   "metadata": {},
   "outputs": [
    {
     "name": "stdout",
     "output_type": "stream",
     "text": [
      "['2C + O2 → 2CO', '4Fe + 3O2 → 2Fe2O3', 'Fe2O3 + 3CO → 2Fe + 3CO2']\n"
     ]
    }
   ],
   "source": [
    "# Long Chain Synthesis\n",
    "starting_materials = [\"Fe\", \"O2\", \"C\"]\n",
    "reactions = [\n",
    "    \"4Fe + 3O2 → 2Fe2O3\",\n",
    "    \"2C + O2 → 2CO\",\n",
    "    \"Fe2O3 + 3CO → 2Fe + 3CO2\",\n",
    "    \"CO2 + C → 2CO\"\n",
    "]\n",
    "target = \"CO2\"\n",
    "\n",
    "result = find_synthesis_path(starting_materials, reactions, target)\n",
    "print(result)\n",
    "# Expected: Should find the multi-step path involving iron oxide formation and reduction"
   ]
  }
 ],
 "metadata": {
  "kernelspec": {
   "display_name": "base",
   "language": "python",
   "name": "python3"
  },
  "language_info": {
   "codemirror_mode": {
    "name": "ipython",
    "version": 3
   },
   "file_extension": ".py",
   "mimetype": "text/x-python",
   "name": "python",
   "nbconvert_exporter": "python",
   "pygments_lexer": "ipython3",
   "version": "3.12.4"
  }
 },
 "nbformat": 4,
 "nbformat_minor": 5
}
